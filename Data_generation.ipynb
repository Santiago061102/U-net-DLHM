{
 "cells": [
  {
   "cell_type": "code",
   "execution_count": null,
   "id": "a53402f4",
   "metadata": {},
   "outputs": [],
   "source": [
    "from dlhm import dlhm, dlhm_rec\n",
    "from datasets import load_dataset\n",
    "from PIL import Image\n",
    "import numpy as np\n",
    "import random, cv2, os\n",
    "import pandas as pd\n",
    "import matplotlib.pyplot as plt\n",
    "\n",
    "\n",
    "#  Simulation parameters\n",
    "size = 256\n",
    "L = 6e-3  # Distance from the source to the hologram plane\n",
    "z = 2e-3  # Distance from the source to the sample's plane\n",
    "Mag = L / z\n",
    "W_c = 4.71e-3  # Width of the sensor\n",
    "dx_in = W_c / size\n",
    "lambda_ = 532e-9  # Wavelength of the light\n",
    "h_max = 350e-9\n"
   ]
  },
  {
   "cell_type": "markdown",
   "id": "474bdf0a",
   "metadata": {},
   "source": [
    "Dataset generation with folders"
   ]
  },
  {
   "cell_type": "code",
   "execution_count": 25,
   "id": "3af19a0e",
   "metadata": {},
   "outputs": [],
   "source": [
    "path_data = r'/home/spm061102/Documents/TDG/Raw dataset/Diatom algae'\n",
    "path_save = r'/home/spm061102/Documents/TDG/Dataset/trys'\n",
    "\n",
    "\n",
    "# Call the realistic_dlhm function to simulate digital lensless holograms\n",
    "num_im = 10 # Number of images for de data set\n",
    "\n",
    "\n",
    "folders = os.listdir(f'{path_data}')\n",
    "\n",
    "for i in range(len(folders)):\n",
    "    data = os.listdir(f'{path_data}/{folders[i]}')\n",
    "    for j in range(num_im):\n",
    "        #image = np.array(Image.open(f'{path}/{folders[i]}/{data[j]}').convert('L'), dtype=np.uint8)\n",
    "        image = cv2.imread(f'{path_data}/{folders[i]}/{data[j]}', cv2.IMREAD_GRAYSCALE).astype(np.float32)/255\n",
    "        image = cv2.resize(image, (size, size))\n",
    "\n",
    "        sample = image*np.exp(1j * 2 * np.pi * image * random.uniform(0.2 , 0.6))\n",
    "        holo = dlhm(sample, 0, L, z, W_c, dx_in, lambda_, x0=0, y0=0, NA_s=0)\n",
    "\n",
    "        ph = np.angle(sample)\n",
    "        ph = ((ph - np.min(ph)) / (np.max(ph) - np.min(ph)))\n",
    "        amp = np.abs(sample)\n",
    "        amp = ((amp - np.min(amp)) / (np.max(amp) - np.min(amp)))\n",
    "\n",
    "        rec_am, rec_ph = dlhm_rec(holo, 0, L, z, W_c, dx_in, lambda_, x0=0, y0=0, NA_s=0.1)\n",
    "        rec_ph = ((rec_ph - np.min(rec_ph)) / (np.max(rec_ph) - np.min(rec_ph)))\n",
    "        \n",
    "\n",
    "\n",
    "        cv2.imwrite(f'{path_save}/tar_ph/tar_ph{i}.png', ph*255)\n",
    "        cv2.imwrite(f'{path_save}/tar_amp/tar_amp{i}.png', (amp*255)*0.5)\n",
    "        cv2.imwrite(f'{path_save}/src/src{i}.png', rec_ph*255)"
   ]
  },
  {
   "cell_type": "markdown",
   "id": "b302d253",
   "metadata": {},
   "source": [
    "Dataset generation loaded from datasets library"
   ]
  },
  {
   "cell_type": "code",
   "execution_count": 27,
   "id": "50423018",
   "metadata": {},
   "outputs": [
    {
     "name": "stdout",
     "output_type": "stream",
     "text": [
      "<class 'numpy.ndarray'>\n",
      "<class 'numpy.ndarray'>\n",
      "<class 'numpy.ndarray'>\n",
      "<class 'numpy.ndarray'>\n",
      "<class 'numpy.ndarray'>\n",
      "<class 'numpy.ndarray'>\n",
      "<class 'numpy.ndarray'>\n",
      "<class 'numpy.ndarray'>\n",
      "<class 'numpy.ndarray'>\n",
      "<class 'numpy.ndarray'>\n"
     ]
    }
   ],
   "source": [
    "path_save = r'/home/spm061102/Documents/TDG/Dataset/trys'\n",
    "ds = load_dataset(\"Norod78/microsoft-fluentui-emoji-512-whitebg\", split= \"train\")\n",
    "\n",
    "\n",
    "num_im = 10 # Number of images for de data set\n",
    "for i in range(0, num_im):\n",
    "    image = np.array(ds[i]['image'])\n",
    "    image = np.array(image[:, :, 1]) / 255\n",
    "    image = cv2.resize(image, (size, size))\n",
    "    print(type(image))\n",
    "    image[image == 1] = random.uniform(0,1)\n",
    "    ## for Docty/Blood-Cells dataset and emojis\n",
    "\n",
    "    ## for danjacobellis/cell_seg_labeled\n",
    "    # image = (df['train']['image'][i])\n",
    "    # image = np.array(image)\n",
    "    # if np.array(image.shape).shape[0] == 3:\n",
    "    #     image = (image[:,:,0] + image[:,:,1] + image[:,:,2]) / 3\n",
    "    # image = cv.resize(image, (size, size))\n",
    "    #\n",
    "    # image = (image / image.max()) * 0.8\n",
    "\n",
    "    sample = image*np.exp(1j * 2 * np.pi * image * random.uniform(0.2 , 0.6))\n",
    "\n",
    "    holo = dlhm(sample, 0, L, z, W_c, dx_in, lambda_, x0=0, y0=0, NA_s=0)\n",
    "    # complx_holo = holo + 1j * (random.uniform(0, 1))\n",
    "\n",
    "    ph = np.angle(sample)\n",
    "    ph = ((ph - np.min(ph)) / (np.max(ph) - np.min(ph)))\n",
    "    amp = np.abs(sample)\n",
    "    amp = ((amp - np.min(amp)) / (np.max(amp) - np.min(amp)))\n",
    "\n",
    "    rec_am, rec_ph = dlhm_rec(holo, 0, L, z, W_c, dx_in, lambda_, x0=0, y0=0, NA_s=0.1)\n",
    "    rec_ph = ((rec_ph - np.min(rec_ph)) / (np.max(rec_ph) - np.min(rec_ph)))\n",
    "\n",
    "    cv2.imwrite(f'{path_save}/tar_ph/tar_ph{i}.png', ph*255)\n",
    "    cv2.imwrite(f'{path_save}/tar_amp/tar_amp{i}.png', (amp*255)*0.5)\n",
    "    cv2.imwrite(f'{path_save}/src/src{i}.png', rec_ph*255)"
   ]
  },
  {
   "cell_type": "code",
   "execution_count": 18,
   "id": "be844f7d",
   "metadata": {},
   "outputs": [
    {
     "name": "stdout",
     "output_type": "stream",
     "text": [
      "<class 'PIL.PngImagePlugin.PngImageFile'>\n",
      "<PIL.PngImagePlugin.PngImageFile image mode=RGB size=512x512 at 0x7C59404BE710>\n"
     ]
    },
    {
     "data": {
      "image/png": "[encoded data removed]",
      "text/plain": [
       "<Figure size 640x480 with 1 Axes>"
      ]
     },
     "metadata": {},
     "output_type": "display_data"
    }
   ],
   "source": [
    "from datasets import load_dataset\n",
    "import matplotlib.pyplot as plt\n",
    "\n",
    "# 1. Load the dataset (Parquet-backed automatically)\n",
    "#ds = load_dataset(\"valhalla/emoji-dataset\", split=\"train\")\n",
    "ds = load_dataset(\"Norod78/microsoft-fluentui-emoji-512-whitebg\", split= \"train\")\n",
    "# 2. Inspect a sample\n",
    "#print(ds.features)  \n",
    "\n",
    "# 3. Access one record\n",
    "sample = ds[0]\n",
    "print(type(sample['image']))  # e.g. \"grinning face\"\n",
    "print(sample['image']) # returns a PIL.Image.Image object\n",
    "\n",
    "# 4. Display it\n",
    "sample['image'].show()\n",
    "\n",
    "# or using matplotlib\n",
    "plt.imshow(sample['image'])\n",
    "plt.axis('off')\n",
    "plt.show()"
   ]
  }
 ],
 "metadata": {
  "kernelspec": {
   "display_name": "TDG",
   "language": "python",
   "name": "python3"
  },
  "language_info": {
   "codemirror_mode": {
    "name": "ipython",
    "version": 3
   },
   "file_extension": ".py",
   "mimetype": "text/x-python",
   "name": "python",
   "nbconvert_exporter": "python",
   "pygments_lexer": "ipython3",
   "version": "3.13.5"
  }
 },
 "nbformat": 4,
 "nbformat_minor": 5
}
