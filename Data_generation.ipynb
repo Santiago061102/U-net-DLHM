{
 "cells": [
  {
   "cell_type": "code",
   "execution_count": null,
   "id": "a53402f4",
   "metadata": {},
   "outputs": [
    {
     "name": "stderr",
     "output_type": "stream",
     "text": [
      "/home/spm061102/anaconda3/envs/TDG/lib/python3.13/site-packages/tqdm/auto.py:21: TqdmWarning: IProgress not found. Please update jupyter and ipywidgets. See https://ipywidgets.readthedocs.io/en/stable/user_install.html\n",
      "  from .autonotebook import tqdm as notebook_tqdm\n"
     ]
    }
   ],
   "source": [
    "from dlhm import dlhm, dlhm_rec\n",
    "from datasets import load_dataset\n",
    "from PIL import Image\n",
    "import numpy as np\n",
    "import random, cv2, os\n",
    "import pandas as pd\n",
    "import matplotlib.pyplot as plt\n",
    "\n",
    "\n",
    "#  Simulation parameters\n",
    "size = 256\n",
    "L = 6e-3  # Distance from the source to the hologram plane\n",
    "z = 2e-3  # Distance from the source to the sample's plane\n",
    "Mag = L / z\n",
    "W_c = 4.71e-3  # Width of the sensor\n",
    "dx_in = W_c / size\n",
    "lambda_ = 532e-9  # Wavelength of the light\n",
    "h_max = 350e-9\n"
   ]
  },
  {
   "cell_type": "markdown",
   "id": "474bdf0a",
   "metadata": {},
   "source": [
    "Dataset generation with folders"
   ]
  },
  {
   "cell_type": "code",
   "execution_count": null,
   "id": "3af19a0e",
   "metadata": {},
   "outputs": [],
   "source": [
    "import os, cv2, random\n",
    "import numpy as np\n",
    "from dlhm import dlhm, dlhm_rec\n",
    "\n",
    "size = 256\n",
    "L = 6e-3  # Distance from the source to the hologram plane\n",
    "z = 2e-3  # Distance from the source to the sample's plane\n",
    "Mag = L / z\n",
    "W_c = 4.71e-3  # Width of the sensor\n",
    "dx_in = W_c / size\n",
    "lambda_ = 532e-9  # Wavelength of the light\n",
    "h_max = 350e-9\n",
    "\n",
    "path_data = r'/home/spm061102/Documents/TDG/Raw dataset/test'\n",
    "path_save = r'/home/spm061102/Documents/TDG/Dataset/test'\n",
    "\n",
    "\n",
    "# Call the realistic_dlhm function to simulate digital lensless holograms\n",
    "num_im = 10 # Number of images for de data set\n",
    "\n",
    "count = 0\n",
    "folders = os.listdir(f'{path_data}')\n",
    "\n",
    "for i in range(len(folders)):\n",
    "    data = os.listdir(f'{path_data}/{folders[i]}')\n",
    "    for j in range(len(data)):\n",
    "        #image = np.array(Image.open(f'{path}/{folders[i]}/{data[j]}').convert('L'), dtype=np.uint8)\n",
    "        image = cv2.imread(f'{path_data}/{folders[i]}/{data[j]}', cv2.IMREAD_GRAYSCALE).astype(np.float32)/255\n",
    "        image = cv2.resize(image, (size, size))\n",
    "\n",
    "        sample = image*np.exp(1j * 2 * np.pi * image * random.uniform(0.2 , 0.6))\n",
    "        holo = dlhm(sample, 0, L, z, W_c, dx_in, lambda_, x0=0, y0=0, NA_s=0)\n",
    "\n",
    "        ph = np.angle(sample)\n",
    "        ph = ((ph - np.min(ph)) / (np.max(ph) - np.min(ph)))\n",
    "        amp = np.abs(sample)\n",
    "        amp = ((amp - np.min(amp)) / (np.max(amp) - np.min(amp)))\n",
    "\n",
    "        rec_am, rec_ph = dlhm_rec(holo, 0, L, z, W_c, dx_in, lambda_, x0=0, y0=0, NA_s=0.1)\n",
    "        rec_ph = ((rec_ph - np.min(rec_ph)) / (np.max(rec_ph) - np.min(rec_ph)))\n",
    "        \n",
    "\n",
    "\n",
    "        cv2.imwrite(f'{path_save}/tar_ph/tar_ph{count}.png', ph*255)\n",
    "        cv2.imwrite(f'{path_save}/tar_amp/tar_amp{count}.png', (amp*255)*0.5)\n",
    "        cv2.imwrite(f'{path_save}/src/src{count}.png', rec_ph*255)\n",
    "        count += 1"
   ]
  },
  {
   "cell_type": "markdown",
   "id": "b302d253",
   "metadata": {},
   "source": [
    "Dataset generation loaded from datasets library"
   ]
  },
  {
   "cell_type": "code",
   "execution_count": null,
   "id": "50423018",
   "metadata": {},
   "outputs": [
    {
     "ename": "NameError",
     "evalue": "name 'load_dataset' is not defined",
     "output_type": "error",
     "traceback": [
      "\u001b[31m---------------------------------------------------------------------------\u001b[39m",
      "\u001b[31mNameError\u001b[39m                                 Traceback (most recent call last)",
      "\u001b[36mCell\u001b[39m\u001b[36m \u001b[39m\u001b[32mIn[1]\u001b[39m\u001b[32m, line 2\u001b[39m\n\u001b[32m      1\u001b[39m path_save = \u001b[33mr\u001b[39m\u001b[33m'\u001b[39m\u001b[33m/home/spm061102/Documents/TDG/Dataset/trys\u001b[39m\u001b[33m'\u001b[39m\n\u001b[32m----> \u001b[39m\u001b[32m2\u001b[39m ds = \u001b[43mload_dataset\u001b[49m(\u001b[33m\"\u001b[39m\u001b[33mNorod78/microsoft-fluentui-emoji-512-whitebg\u001b[39m\u001b[33m\"\u001b[39m, split= \u001b[33m\"\u001b[39m\u001b[33mtrain\u001b[39m\u001b[33m\"\u001b[39m)\n\u001b[32m      5\u001b[39m num_im = \u001b[32m10\u001b[39m \u001b[38;5;66;03m# Number of images for de data set\u001b[39;00m\n\u001b[32m      6\u001b[39m \u001b[38;5;28;01mfor\u001b[39;00m i \u001b[38;5;129;01min\u001b[39;00m \u001b[38;5;28mrange\u001b[39m(\u001b[32m0\u001b[39m, num_im):\n",
      "\u001b[31mNameError\u001b[39m: name 'load_dataset' is not defined"
     ]
    }
   ],
   "source": [
    "import cv2, random\n",
    "import numpy as np\n",
    "import matplotlib.pyplot as plt\n",
    "from dlhm import dlhm, dlhm_rec\n",
    "from datasets import load_dataset\n",
    "\n",
    "\n",
    "size = 256\n",
    "L = 6e-3  # Distance from the source to the hologram plane\n",
    "z = 2e-3  # Distance from the source to the sample's plane\n",
    "Mag = L / z\n",
    "W_c = 4.71e-3  # Width of the sensor\n",
    "dx_in = W_c / size\n",
    "lambda_ = 532e-9  # Wavelength of the light\n",
    "h_max = 350e-9\n",
    "\n",
    "path_save = r'/home/spm061102/Documents/TDG/Dataset/trys'\n",
    "ds = load_dataset(\"Norod78/microsoft-fluentui-emoji-512-whitebg\", split= \"train\")\n",
    "\n",
    "\n",
    "num_im = 10 # Number of images for de data set\n",
    "for i in range(0, num_im):\n",
    "    image = np.array(ds[i]['image'])\n",
    "    image = np.array(image[:, :, 1]) / 255\n",
    "    image = cv2.resize(image, (size, size))\n",
    "    print(type(image))\n",
    "    image[image == 1] = random.uniform(0,1)\n",
    "    ## for Docty/Blood-Cells dataset and emojis\n",
    "\n",
    "    ## for danjacobellis/cell_seg_labeled\n",
    "    # image = (df['train']['image'][i])\n",
    "    # image = np.array(image)\n",
    "    # if np.array(image.shape).shape[0] == 3:\n",
    "    #     image = (image[:,:,0] + image[:,:,1] + image[:,:,2]) / 3\n",
    "    # image = cv.resize(image, (size, size))\n",
    "    #\n",
    "    # image = (image / image.max()) * 0.8\n",
    "\n",
    "    sample = image*np.exp(1j * 2 * np.pi * image * random.uniform(0.2 , 0.6))\n",
    "\n",
    "    holo = dlhm(sample, 0, L, z, W_c, dx_in, lambda_, x0=0, y0=0, NA_s=0)\n",
    "    # complx_holo = holo + 1j * (random.uniform(0, 1))\n",
    "\n",
    "    ph = np.angle(sample)\n",
    "    ph = ((ph - np.min(ph)) / (np.max(ph) - np.min(ph)))\n",
    "    amp = np.abs(sample)\n",
    "    amp = ((amp - np.min(amp)) / (np.max(amp) - np.min(amp)))\n",
    "\n",
    "    rec_am, rec_ph = dlhm_rec(holo, 0, L, z, W_c, dx_in, lambda_, x0=0, y0=0, NA_s=0.1)\n",
    "    rec_ph = ((rec_ph - np.min(rec_ph)) / (np.max(rec_ph) - np.min(rec_ph)))\n",
    "\n",
    "    cv2.imwrite(f'{path_save}/tar_ph/tar_ph{i}.png', ph*255)\n",
    "    cv2.imwrite(f'{path_save}/tar_amp/tar_amp{i}.png', (amp*255)*0.5)\n",
    "    cv2.imwrite(f'{path_save}/src/src{i}.png', rec_ph*255)"
   ]
  },
  {
   "cell_type": "code",
   "execution_count": null,
   "id": "be844f7d",
   "metadata": {},
   "outputs": [
    {
     "name": "stdout",
     "output_type": "stream",
     "text": [
      "<class 'PIL.PngImagePlugin.PngImageFile'>\n",
      "<PIL.PngImagePlugin.PngImageFile image mode=RGB size=512x512 at 0x7DAE723042D0>\n"
     ]
    },
    {
     "data": {
      "image/png": "[encoded data removed]",
      "text/plain": [
       "<Figure size 640x480 with 1 Axes>"
      ]
     },
     "metadata": {},
     "output_type": "display_data"
    }
   ],
   "source": [
    "from datasets import load_dataset\n",
    "import matplotlib.pyplot as plt\n",
    "\n",
    "#ds = load_dataset(\"valhalla/emoji-dataset\", split=\"train\")\n",
    "ds = load_dataset(\"Norod78/microsoft-fluentui-emoji-512-whitebg\", split= \"train\")\n",
    "\n",
    "\n",
    "\n",
    "sample = ds[200]\n",
    "print(type(sample['image']))  # e.g. \"grinning face\"\n",
    "print(sample['image']) # returns a PIL.Image.Image object\n",
    "\n",
    "\n",
    "# or using matplotlib\n",
    "plt.imshow(sample['image'])\n",
    "plt.axis('off')\n",
    "plt.show()"
   ]
  },
  {
   "cell_type": "markdown",
   "id": "a5e7d6d3",
   "metadata": {},
   "source": [
    "Dataset mix"
   ]
  },
  {
   "cell_type": "code",
   "execution_count": 2,
   "id": "85d32d20",
   "metadata": {},
   "outputs": [],
   "source": [
    "import os\n",
    "from PIL import Image\n",
    "import cv2\n",
    "\n",
    "folders = ['Cancer blood cells', 'Rand figs']\n",
    "percentage = [50, 50]\n",
    "path = r'/home/spm061102/Documents/TDG/Dataset'\n",
    "new_path = r'/home/spm061102/Documents/TDG/Dataset/Combined'\n",
    "num_data = 5000\n",
    "count = 0\n",
    "for i in range(len(folders)):\n",
    "    for j in range(int(num_data*(percentage[i]/100))):\n",
    "\n",
    "        src = cv2.imread(f'{path}/{folders[i]}/src/src{j}.png')\n",
    "        tar_ph = cv2.imread(f'{path}/{folders[i]}/tar_ph/tar_ph{j}.png')\n",
    "        tar_amp = cv2.imread(f'{path}/{folders[i]}/tar_amp/tar_amp{j}.png')\n",
    "\n",
    "        cv2.imwrite(f'{new_path}/src/{folders[i]}{count}.png', src)\n",
    "        cv2.imwrite(f'{new_path}/tar_ph/{folders[i]}{count}.png', tar_ph)\n",
    "        cv2.imwrite(f'{new_path}/tar_amp/{folders[i]}{count}.png', tar_amp)\n",
    "        count += 1"
   ]
  }
 ],
 "metadata": {
  "kernelspec": {
   "display_name": "TDG",
   "language": "python",
   "name": "python3"
  },
  "language_info": {
   "codemirror_mode": {
    "name": "ipython",
    "version": 3
   },
   "file_extension": ".py",
   "mimetype": "text/x-python",
   "name": "python",
   "nbconvert_exporter": "python",
   "pygments_lexer": "ipython3",
   "version": "3.13.5"
  }
 },
 "nbformat": 4,
 "nbformat_minor": 5
}
